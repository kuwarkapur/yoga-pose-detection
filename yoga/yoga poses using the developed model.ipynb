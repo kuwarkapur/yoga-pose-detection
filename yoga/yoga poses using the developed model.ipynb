{
 "cells": [
  {
   "cell_type": "code",
   "execution_count": 1,
   "metadata": {},
   "outputs": [],
   "source": [
    "import tensorflow as tf\n",
    "from tensorflow.keras.models import load_model"
   ]
  },
  {
   "cell_type": "code",
   "execution_count": 2,
   "metadata": {},
   "outputs": [],
   "source": [
    "model=load_model('classification.h5',compile=False)"
   ]
  },
  {
   "cell_type": "code",
   "execution_count": 3,
   "metadata": {},
   "outputs": [
    {
     "name": "stdout",
     "output_type": "stream",
     "text": [
      "Model: \"sequential_6\"\n",
      "_________________________________________________________________\n",
      "Layer (type)                 Output Shape              Param #   \n",
      "=================================================================\n",
      "conv2d_46 (Conv2D)           (None, 222, 222, 16)      448       \n",
      "_________________________________________________________________\n",
      "conv2d_47 (Conv2D)           (None, 220, 220, 16)      2320      \n",
      "_________________________________________________________________\n",
      "max_pooling2d_23 (MaxPooling (None, 110, 110, 16)      0         \n",
      "_________________________________________________________________\n",
      "conv2d_48 (Conv2D)           (None, 108, 108, 32)      4640      \n",
      "_________________________________________________________________\n",
      "conv2d_49 (Conv2D)           (None, 106, 106, 32)      9248      \n",
      "_________________________________________________________________\n",
      "max_pooling2d_24 (MaxPooling (None, 53, 53, 32)        0         \n",
      "_________________________________________________________________\n",
      "conv2d_50 (Conv2D)           (None, 51, 51, 64)        18496     \n",
      "_________________________________________________________________\n",
      "conv2d_51 (Conv2D)           (None, 49, 49, 64)        36928     \n",
      "_________________________________________________________________\n",
      "max_pooling2d_25 (MaxPooling (None, 24, 24, 64)        0         \n",
      "_________________________________________________________________\n",
      "conv2d_52 (Conv2D)           (None, 22, 22, 96)        55392     \n",
      "_________________________________________________________________\n",
      "conv2d_53 (Conv2D)           (None, 20, 20, 96)        83040     \n",
      "_________________________________________________________________\n",
      "max_pooling2d_26 (MaxPooling (None, 10, 10, 96)        0         \n",
      "_________________________________________________________________\n",
      "flatten_6 (Flatten)          (None, 9600)              0         \n",
      "_________________________________________________________________\n",
      "dense_12 (Dense)             (None, 96)                921696    \n",
      "_________________________________________________________________\n",
      "dropout_6 (Dropout)          (None, 96)                0         \n",
      "_________________________________________________________________\n",
      "dense_13 (Dense)             (None, 5)                 485       \n",
      "=================================================================\n",
      "Total params: 1,132,693\n",
      "Trainable params: 1,132,693\n",
      "Non-trainable params: 0\n",
      "_________________________________________________________________\n"
     ]
    }
   ],
   "source": [
    "model.summary()"
   ]
  },
  {
   "cell_type": "code",
   "execution_count": 4,
   "metadata": {},
   "outputs": [],
   "source": [
    "import cv2 as cv\n",
    "BODY_PARTS = { \"Nose\": 0, \"Neck\": 1, \"RShoulder\": 2, \"RElbow\": 3, \"RWrist\": 4,\n",
    "               \"LShoulder\": 5, \"LElbow\": 6, \"LWrist\": 7, \"RHip\": 8, \"RKnee\": 9,\n",
    "               \"RAnkle\": 10, \"LHip\": 11, \"LKnee\": 12, \"LAnkle\": 13, \"REye\": 14,\n",
    "               \"LEye\": 15, \"REar\": 16, \"LEar\": 17, \"Background\": 18 }\n",
    "\n",
    "POSE_PAIRS = [ [\"Neck\", \"RShoulder\"], [\"Neck\", \"LShoulder\"], [\"RShoulder\", \"RElbow\"],\n",
    "               [\"RElbow\", \"RWrist\"], [\"LShoulder\", \"LElbow\"], [\"LElbow\", \"LWrist\"],\n",
    "               [\"Neck\", \"RHip\"], [\"RHip\", \"RKnee\"], [\"RKnee\", \"RAnkle\"], [\"Neck\", \"LHip\"],\n",
    "               [\"LHip\", \"LKnee\"], [\"LKnee\", \"LAnkle\"], [\"Neck\", \"Nose\"], [\"Nose\", \"REye\"],\n",
    "               [\"REye\", \"REar\"], [\"Nose\", \"LEye\"], [\"LEye\", \"LEar\"] ]\n",
    "\n",
    "width = 368\n",
    "height = 368                                            # setting up the\n",
    "                                                        # deafult values\n",
    "net = cv.dnn.readNetFromTensorflow(\"graph_opt.pb\")\n",
    "thr = 0.2\n",
    "\n",
    "def poseDetector(image):\n",
    "    imageWidth = image.shape[1]\n",
    "    imageHeight = image.shape[0]\n",
    "    \n",
    "    net.setInput(cv.dnn.blobFromImage(image, 1.0, (width, height), (127.5, 127.5, 127.5), swapRB=True, crop=False))\n",
    "    out = net.forward()\n",
    "    out = out[:, :19, :, :]  #basically its just here because we only need the first 19 elements\n",
    "\n",
    "    assert(len(BODY_PARTS) == out.shape[1])\n",
    "\n",
    "    points = []\n",
    "    for i in range(len(BODY_PARTS)):\n",
    "        # taking heatmap of respective body's part.\n",
    "        heatMap = out[0, i, :, :]\n",
    "\n",
    "        _, conf, _, point = cv.minMaxLoc(heatMap)\n",
    "        x = (imageWidth* point[0]) / out.shape[3]\n",
    "        y = (imageHeight * point[1]) / out.shape[2]\n",
    "        points.append((int(x), int(y)) if conf > thr else None)\n",
    "\n",
    "    for pair in POSE_PAIRS:\n",
    "        From = pair[0]\n",
    "        To = pair[1]\n",
    "        assert(From in BODY_PARTS)\n",
    "        assert(To in BODY_PARTS)\n",
    "\n",
    "        idFrom = BODY_PARTS[From]\n",
    "        idTo = BODY_PARTS[To]\n",
    "\n",
    "        if points[idFrom] and points[idTo]:\n",
    "            cv.line(image, points[idFrom], points[idTo], (0, 255, 0), 3)\n",
    "            cv.ellipse(image, points[idFrom], (3, 3), 0, 0, 360, (0, 0, 255), cv.FILLED)\n",
    "            cv.ellipse(image, points[idTo], (3, 3), 0, 0, 360, (0, 0, 255), cv.FILLED)\n",
    "\n",
    "    t, _ = net.getPerfProfile()\n",
    "\n",
    "    return (image/255.)\n",
    "   "
   ]
  },
  {
   "cell_type": "code",
   "execution_count": 5,
   "metadata": {},
   "outputs": [],
   "source": [
    "def text(c,output):\n",
    "    if c.argmax()==0:\n",
    "        cv.putText(output,labels[0],(100,100),4,1,250,4)\n",
    "    elif c.argmax()==1:\n",
    "        cv.putText(output,labels[1],(100,100),4,1,250,4)\n",
    "    elif c.argmax()==2:\n",
    "        cv.putText(output,labels[2],(100,100),4,1,250,4)\n",
    "    elif c.argmax()==3:\n",
    "        cv.putText(output,labels[3],(100,100),4,1,250,4)\n",
    "    else:\n",
    "        cv.putText(output,labels[4],(100,100),4,1,250,4)"
   ]
  },
  {
   "cell_type": "code",
   "execution_count": 6,
   "metadata": {},
   "outputs": [],
   "source": [
    "def preprocess(inp,dims=224):\n",
    "  ret,frame=inp.read()\n",
    "  output = poseDetector(frame)\n",
    "\n",
    "      # Create resized image using the calculated dimentions\n",
    "  resized_image = cv.resize(output,(dims,dims),interpolation=cv.INTER_AREA)\n",
    "  #resized_image=resized_image/resized_image.max()\n",
    "  #resized_image=tf.cast(tf.constant(resized_image),dtype=tf.float32) \n",
    "  resized_image=tf.expand_dims(resized_image,axis=0)\n",
    "  c=model.predict(resized_image)\n",
    "  text(c,output)\n",
    "  return output"
   ]
  },
  {
   "cell_type": "code",
   "execution_count": 9,
   "metadata": {},
   "outputs": [],
   "source": [
    "import numpy as np\n",
    "labels=['downdog','goddess','plank','tree','warrior2']\n",
    "insf = cv.VideoCapture('Tree Poses - Yoga Technique.mp4')\n",
    "while(True):\n",
    "\n",
    "  \n",
    "  #fourcc = cv.VideoWriter_fourcc('X','V','I','D')\n",
    "  #out = cv.VideoWriter(\"output8.avi\", fourcc, 5.0, (1280,720))\n",
    "  output=preprocess(insf)\n",
    "  cv.imshow('output',output)  \n",
    "  if cv.waitKey(1) & 0xFF ==ord('q'):\n",
    "        break\n",
    "\n",
    "insf.release()\n",
    "cv.destroyAllWindows()\n",
    "#out.release()"
   ]
  },
  {
   "cell_type": "code",
   "execution_count": null,
   "metadata": {},
   "outputs": [],
   "source": []
  },
  {
   "cell_type": "code",
   "execution_count": null,
   "metadata": {},
   "outputs": [],
   "source": []
  }
 ],
 "metadata": {
  "kernelspec": {
   "display_name": "Python 3",
   "language": "python",
   "name": "python3"
  },
  "language_info": {
   "codemirror_mode": {
    "name": "ipython",
    "version": 3
   },
   "file_extension": ".py",
   "mimetype": "text/x-python",
   "name": "python",
   "nbconvert_exporter": "python",
   "pygments_lexer": "ipython3",
   "version": "3.8.3"
  }
 },
 "nbformat": 4,
 "nbformat_minor": 4
}
